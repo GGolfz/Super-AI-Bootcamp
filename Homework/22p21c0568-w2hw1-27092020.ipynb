{
 "cells": [
  {
   "cell_type": "code",
   "execution_count": 1,
   "metadata": {
    "_cell_guid": "b1076dfc-b9ad-4769-8c92-a6c4dae69d19",
    "_uuid": "8f2839f25d086af736a60e9eeb907d3b93b6e0e5",
    "execution": {
     "iopub.execute_input": "2020-09-30T16:49:29.799852Z",
     "iopub.status.busy": "2020-09-30T16:49:29.799005Z",
     "iopub.status.idle": "2020-09-30T16:49:32.623000Z",
     "shell.execute_reply": "2020-09-30T16:49:32.621651Z"
    },
    "papermill": {
     "duration": 2.84778,
     "end_time": "2020-09-30T16:49:32.623203",
     "exception": false,
     "start_time": "2020-09-30T16:49:29.775423",
     "status": "completed"
    },
    "tags": []
   },
   "outputs": [],
   "source": [
    "import numpy as np # linear algebra\n",
    "import pandas as pd # data processing, CSV file I/O (e.g. pd.read_csv)\n",
    "import time\n",
    "from xgboost import XGBRegressor\n",
    "from catboost import CatBoostRegressor\n",
    "from lightgbm import LGBMRegressor\n",
    "from sklearn import metrics\n",
    "from sklearn.linear_model import LinearRegression\n",
    "from sklearn.ensemble import RandomForestRegressor"
   ]
  },
  {
   "cell_type": "code",
   "execution_count": 2,
   "metadata": {
    "execution": {
     "iopub.execute_input": "2020-09-30T16:49:32.667391Z",
     "iopub.status.busy": "2020-09-30T16:49:32.666497Z",
     "iopub.status.idle": "2020-09-30T16:49:32.670753Z",
     "shell.execute_reply": "2020-09-30T16:49:32.669880Z"
    },
    "papermill": {
     "duration": 0.027566,
     "end_time": "2020-09-30T16:49:32.670928",
     "exception": false,
     "start_time": "2020-09-30T16:49:32.643362",
     "status": "completed"
    },
    "tags": []
   },
   "outputs": [],
   "source": [
    "def read_plant_1():\n",
    "    df1 = pd.read_csv('/kaggle/input/solar-power-generation-data/Plant_1_Generation_Data.csv')\n",
    "    df2 = pd.read_csv('/kaggle/input/solar-power-generation-data/Plant_1_Weather_Sensor_Data.csv')\n",
    "    return df1,df2"
   ]
  },
  {
   "cell_type": "code",
   "execution_count": 3,
   "metadata": {
    "execution": {
     "iopub.execute_input": "2020-09-30T16:49:32.707639Z",
     "iopub.status.busy": "2020-09-30T16:49:32.706797Z",
     "iopub.status.idle": "2020-09-30T16:49:32.710932Z",
     "shell.execute_reply": "2020-09-30T16:49:32.710099Z"
    },
    "papermill": {
     "duration": 0.025318,
     "end_time": "2020-09-30T16:49:32.711081",
     "exception": false,
     "start_time": "2020-09-30T16:49:32.685763",
     "status": "completed"
    },
    "tags": []
   },
   "outputs": [],
   "source": [
    "def read_plant_2():\n",
    "    df1 = pd.read_csv('/kaggle/input/solar-power-generation-data/Plant_2_Generation_Data.csv')\n",
    "    df2 = pd.read_csv('/kaggle/input/solar-power-generation-data/Plant_2_Weather_Sensor_Data.csv')\n",
    "    return df1,df2"
   ]
  },
  {
   "cell_type": "code",
   "execution_count": 4,
   "metadata": {
    "_cell_guid": "79c7e3d0-c299-4dcb-8224-4455121ee9b0",
    "_uuid": "d629ff2d2480ee46fbb7e2d37f6b5fab8052498a",
    "execution": {
     "iopub.execute_input": "2020-09-30T16:49:32.759940Z",
     "iopub.status.busy": "2020-09-30T16:49:32.758860Z",
     "iopub.status.idle": "2020-09-30T16:49:32.761966Z",
     "shell.execute_reply": "2020-09-30T16:49:32.762527Z"
    },
    "papermill": {
     "duration": 0.036339,
     "end_time": "2020-09-30T16:49:32.762744",
     "exception": false,
     "start_time": "2020-09-30T16:49:32.726405",
     "status": "completed"
    },
    "tags": []
   },
   "outputs": [],
   "source": [
    "def create_df(df1,df2):\n",
    "    df1 = df1.drop('PLANT_ID', axis='columns')\n",
    "    df2 = df2.drop(['PLANT_ID','SOURCE_KEY'],axis='columns')\n",
    "    df1[\"DATE_TIME\"] = pd.to_datetime(df1[\"DATE_TIME\"])\n",
    "    df2[\"DATE_TIME\"] = pd.to_datetime(df2[\"DATE_TIME\"])\n",
    "    df = pd.merge(df2,df1,on=\"DATE_TIME\",how=\"inner\")\n",
    "    df['Time'] = df['DATE_TIME'].apply(lambda x : str(x).split(' ')[1])\n",
    "    df['TOTAL_YIELD_1'] = df.groupby(['SOURCE_KEY','Time']).shift(4)['TOTAL_YIELD'] \n",
    "    df['TOTAL_YIELD_2'] = df.groupby(['SOURCE_KEY','Time']).shift(5)['TOTAL_YIELD'] \n",
    "    df['TOTAL_YIELD_3'] = df.groupby(['SOURCE_KEY','Time']).shift(6)['TOTAL_YIELD']\n",
    "    df['TOTAL_YIELD_4'] = df.groupby(['SOURCE_KEY','Time']).shift(7)['TOTAL_YIELD']\n",
    "    df['TOTAL_YIELD_5'] = df.groupby(['SOURCE_KEY','Time']).shift(8)['TOTAL_YIELD']\n",
    "    df['TOTAL_YIELD_6'] = df.groupby(['SOURCE_KEY','Time']).shift(9)['TOTAL_YIELD']\n",
    "    df['TOTAL_YIELD_7'] = df.groupby(['SOURCE_KEY','Time']).shift(10)['TOTAL_YIELD']\n",
    "    df = df.drop(['DATE_TIME','Time','SOURCE_KEY','DAILY_YIELD','DC_POWER','AC_POWER'],axis =1)\n",
    "    return df"
   ]
  },
  {
   "cell_type": "code",
   "execution_count": 5,
   "metadata": {
    "execution": {
     "iopub.execute_input": "2020-09-30T16:49:32.799824Z",
     "iopub.status.busy": "2020-09-30T16:49:32.799015Z",
     "iopub.status.idle": "2020-09-30T16:49:32.802796Z",
     "shell.execute_reply": "2020-09-30T16:49:32.802132Z"
    },
    "papermill": {
     "duration": 0.024978,
     "end_time": "2020-09-30T16:49:32.802933",
     "exception": false,
     "start_time": "2020-09-30T16:49:32.777955",
     "status": "completed"
    },
    "tags": []
   },
   "outputs": [],
   "source": [
    "def make_fold(df):\n",
    "    data = [df[df.index % 10 == i] for i in range(10)]\n",
    "    return data"
   ]
  },
  {
   "cell_type": "code",
   "execution_count": 6,
   "metadata": {
    "execution": {
     "iopub.execute_input": "2020-09-30T16:49:32.841060Z",
     "iopub.status.busy": "2020-09-30T16:49:32.839944Z",
     "iopub.status.idle": "2020-09-30T16:49:32.843891Z",
     "shell.execute_reply": "2020-09-30T16:49:32.843249Z"
    },
    "papermill": {
     "duration": 0.025624,
     "end_time": "2020-09-30T16:49:32.844038",
     "exception": false,
     "start_time": "2020-09-30T16:49:32.818414",
     "status": "completed"
    },
    "tags": []
   },
   "outputs": [],
   "source": [
    "def create_model():\n",
    "    XGB = XGBRegressor()\n",
    "    CB = CatBoostRegressor()\n",
    "    LGB = LGBMRegressor()\n",
    "    LR = LinearRegression()\n",
    "    RF = RandomForestRegressor()"
   ]
  },
  {
   "cell_type": "code",
   "execution_count": 7,
   "metadata": {
    "execution": {
     "iopub.execute_input": "2020-09-30T16:49:32.890566Z",
     "iopub.status.busy": "2020-09-30T16:49:32.889523Z",
     "iopub.status.idle": "2020-09-30T16:49:32.893094Z",
     "shell.execute_reply": "2020-09-30T16:49:32.893736Z"
    },
    "papermill": {
     "duration": 0.032858,
     "end_time": "2020-09-30T16:49:32.893936",
     "exception": false,
     "start_time": "2020-09-30T16:49:32.861078",
     "status": "completed"
    },
    "tags": []
   },
   "outputs": [],
   "source": [
    "def xgb(data):\n",
    "    train = data[1:]\n",
    "    test  = data[0]\n",
    "    train = pd.concat(train)\n",
    "    train = train.dropna()\n",
    "    test = test.dropna()\n",
    "    start = time.time()\n",
    "    XGB.fit(train.drop(['TOTAL_YIELD'],axis=1),train['TOTAL_YIELD'])\n",
    "    end = time.time()\n",
    "    times.append(end-start)\n",
    "    XGB_pred = XGB.predict(test.drop(['TOTAL_YIELD'],axis=1))\n",
    "    mae = metrics.mean_absolute_error(XGB_pred, test['TOTAL_YIELD'])\n",
    "    MAE.append(mae)\n",
    "    mse = metrics.mean_squared_error(XGB_pred, test['TOTAL_YIELD'])\n",
    "    MSE.append(mse)\n",
    "    rmse = np.sqrt(metrics.mean_squared_error(XGB_pred, test['TOTAL_YIELD']))\n",
    "    RMSE.append(rmse)\n",
    "    r2 = XGB.score(test.drop(['TOTAL_YIELD'],axis=1), test['TOTAL_YIELD'])\n",
    "    R2.append(r2)"
   ]
  },
  {
   "cell_type": "code",
   "execution_count": 8,
   "metadata": {
    "execution": {
     "iopub.execute_input": "2020-09-30T16:49:32.939735Z",
     "iopub.status.busy": "2020-09-30T16:49:32.938950Z",
     "iopub.status.idle": "2020-09-30T16:49:32.943163Z",
     "shell.execute_reply": "2020-09-30T16:49:32.942331Z"
    },
    "papermill": {
     "duration": 0.033577,
     "end_time": "2020-09-30T16:49:32.943304",
     "exception": false,
     "start_time": "2020-09-30T16:49:32.909727",
     "status": "completed"
    },
    "tags": []
   },
   "outputs": [],
   "source": [
    "def cb(data):\n",
    "    train = data[1:]\n",
    "    test  = data[0]\n",
    "    train = pd.concat(train)\n",
    "    train = train.dropna()\n",
    "    test = test.dropna()\n",
    "    start = time.time()\n",
    "    CB.fit(train.drop(['TOTAL_YIELD'],axis=1),train['TOTAL_YIELD'])\n",
    "    end = time.time()\n",
    "    times.append(end-start)\n",
    "    CB_pred = CB.predict(test.drop(['TOTAL_YIELD'],axis=1))\n",
    "    mae = metrics.mean_absolute_error(CB_pred, test['TOTAL_YIELD'])\n",
    "    MAE.append(mae)\n",
    "    mse = metrics.mean_squared_error(CB_pred, test['TOTAL_YIELD'])\n",
    "    MSE.append(mse)\n",
    "    rmse = np.sqrt(metrics.mean_squared_error(CB_pred, test['TOTAL_YIELD']))\n",
    "    RMSE.append(rmse)\n",
    "    r2 = CB.score(test.drop(['TOTAL_YIELD'],axis=1), test['TOTAL_YIELD'])\n",
    "    R2.append(r2)"
   ]
  },
  {
   "cell_type": "code",
   "execution_count": 9,
   "metadata": {
    "execution": {
     "iopub.execute_input": "2020-09-30T16:49:32.998267Z",
     "iopub.status.busy": "2020-09-30T16:49:32.992966Z",
     "iopub.status.idle": "2020-09-30T16:49:33.008599Z",
     "shell.execute_reply": "2020-09-30T16:49:33.007927Z"
    },
    "papermill": {
     "duration": 0.043846,
     "end_time": "2020-09-30T16:49:33.008732",
     "exception": false,
     "start_time": "2020-09-30T16:49:32.964886",
     "status": "completed"
    },
    "tags": []
   },
   "outputs": [],
   "source": [
    "def lgb(data):\n",
    "    train = data[1:]\n",
    "    test  = data[0]\n",
    "    train = pd.concat(train)\n",
    "    train = train.dropna()\n",
    "    test = test.dropna()\n",
    "    start = time.time()\n",
    "    LGB.fit(train.drop(['TOTAL_YIELD'],axis=1),train['TOTAL_YIELD'])\n",
    "    end = time.time()\n",
    "    times.append(end-start)\n",
    "    LGB_pred = LGB.predict(test.drop(['TOTAL_YIELD'],axis=1))\n",
    "    mae = metrics.mean_absolute_error(LGB_pred, test['TOTAL_YIELD'])\n",
    "    MAE.append(mae)\n",
    "    mse = metrics.mean_squared_error(LGB_pred, test['TOTAL_YIELD'])\n",
    "    MSE.append(mse)\n",
    "    rmse = np.sqrt(metrics.mean_squared_error(LGB_pred, test['TOTAL_YIELD']))\n",
    "    RMSE.append(rmse)\n",
    "    r2 = LGB.score(test.drop(['TOTAL_YIELD'],axis=1), test['TOTAL_YIELD'])\n",
    "    R2.append(r2)"
   ]
  },
  {
   "cell_type": "code",
   "execution_count": 10,
   "metadata": {
    "execution": {
     "iopub.execute_input": "2020-09-30T16:49:33.066086Z",
     "iopub.status.busy": "2020-09-30T16:49:33.065035Z",
     "iopub.status.idle": "2020-09-30T16:49:33.070322Z",
     "shell.execute_reply": "2020-09-30T16:49:33.069278Z"
    },
    "papermill": {
     "duration": 0.043735,
     "end_time": "2020-09-30T16:49:33.070512",
     "exception": false,
     "start_time": "2020-09-30T16:49:33.026777",
     "status": "completed"
    },
    "tags": []
   },
   "outputs": [],
   "source": [
    "def lr(data):\n",
    "    train = data[1:]\n",
    "    test  = data[0]\n",
    "    train = pd.concat(train)\n",
    "    train = train.dropna()\n",
    "    test = test.dropna()\n",
    "    start = time.time()\n",
    "    LR.fit(train.drop(['TOTAL_YIELD'],axis=1),train['TOTAL_YIELD'])\n",
    "    end = time.time()\n",
    "    times.append(end-start)\n",
    "    LR_pred = LR.predict(test.drop(['TOTAL_YIELD'],axis=1))\n",
    "    mae = metrics.mean_absolute_error(LR_pred, test['TOTAL_YIELD'])\n",
    "    MAE.append(mae)\n",
    "    mse = metrics.mean_squared_error(LR_pred, test['TOTAL_YIELD'])\n",
    "    MSE.append(mse)\n",
    "    rmse = np.sqrt(metrics.mean_squared_error(LR_pred, test['TOTAL_YIELD']))\n",
    "    RMSE.append(rmse)\n",
    "    r2 = LR.score(test.drop(['TOTAL_YIELD'],axis=1), test['TOTAL_YIELD'])\n",
    "    R2.append(r2)"
   ]
  },
  {
   "cell_type": "code",
   "execution_count": 11,
   "metadata": {
    "execution": {
     "iopub.execute_input": "2020-09-30T16:49:33.126504Z",
     "iopub.status.busy": "2020-09-30T16:49:33.125373Z",
     "iopub.status.idle": "2020-09-30T16:49:33.132119Z",
     "shell.execute_reply": "2020-09-30T16:49:33.131244Z"
    },
    "papermill": {
     "duration": 0.040173,
     "end_time": "2020-09-30T16:49:33.132285",
     "exception": false,
     "start_time": "2020-09-30T16:49:33.092112",
     "status": "completed"
    },
    "tags": []
   },
   "outputs": [],
   "source": [
    "def rf(data):\n",
    "    train = data[1:]\n",
    "    test  = data[0]\n",
    "    train = pd.concat(train)\n",
    "    train = train.dropna()\n",
    "    test = test.dropna()\n",
    "    start = time.time()\n",
    "    RF.fit(train.drop(['TOTAL_YIELD'],axis=1),train['TOTAL_YIELD'])\n",
    "    end = time.time()\n",
    "    times.append(end-start)\n",
    "    RF_pred = RF.predict(test.drop(['TOTAL_YIELD'],axis=1))\n",
    "    mae = metrics.mean_absolute_error(RF_pred, test['TOTAL_YIELD'])\n",
    "    MAE.append(mae)\n",
    "    mse = metrics.mean_squared_error(RF_pred, test['TOTAL_YIELD'])\n",
    "    MSE.append(mse)\n",
    "    rmse = np.sqrt(metrics.mean_squared_error(RF_pred, test['TOTAL_YIELD']))\n",
    "    RMSE.append(rmse)\n",
    "    r2 = LR.score(test.drop(['TOTAL_YIELD'],axis=1), test['TOTAL_YIELD'])\n",
    "    R2.append(r2)"
   ]
  },
  {
   "cell_type": "code",
   "execution_count": 12,
   "metadata": {
    "execution": {
     "iopub.execute_input": "2020-09-30T16:49:33.179931Z",
     "iopub.status.busy": "2020-09-30T16:49:33.178664Z",
     "iopub.status.idle": "2020-09-30T16:49:33.181885Z",
     "shell.execute_reply": "2020-09-30T16:49:33.182780Z"
    },
    "papermill": {
     "duration": 0.033707,
     "end_time": "2020-09-30T16:49:33.183036",
     "exception": false,
     "start_time": "2020-09-30T16:49:33.149329",
     "status": "completed"
    },
    "tags": []
   },
   "outputs": [],
   "source": [
    "def report(label,MAE,MSE,RMSE,R2,times):\n",
    "    result = []\n",
    "    for i in range(len(label)):\n",
    "        result.append([label[i],MAE[i],MSE[i],RMSE[i],R2[i],times[i]])\n",
    "    result_df = pd.DataFrame(np.array(result),columns=['Model','Mean Absolute Error','Mean Squared Error','Root Mean Square Error','R-Squared','Time'])\n",
    "    return result_df"
   ]
  },
  {
   "cell_type": "code",
   "execution_count": 13,
   "metadata": {
    "execution": {
     "iopub.execute_input": "2020-09-30T16:49:33.234463Z",
     "iopub.status.busy": "2020-09-30T16:49:33.233359Z",
     "iopub.status.idle": "2020-09-30T16:49:33.237170Z",
     "shell.execute_reply": "2020-09-30T16:49:33.236413Z"
    },
    "papermill": {
     "duration": 0.029608,
     "end_time": "2020-09-30T16:49:33.237319",
     "exception": false,
     "start_time": "2020-09-30T16:49:33.207711",
     "status": "completed"
    },
    "tags": []
   },
   "outputs": [],
   "source": [
    "def pipeline(param):\n",
    "    df = create_df(param[0],param[1])\n",
    "    data = make_fold(df)\n",
    "    create_model()\n",
    "    xgb(data)\n",
    "    cb(data)\n",
    "    lgb(data)\n",
    "    lr(data)\n",
    "    rf(data)"
   ]
  },
  {
   "cell_type": "code",
   "execution_count": 14,
   "metadata": {
    "execution": {
     "iopub.execute_input": "2020-09-30T16:49:33.285008Z",
     "iopub.status.busy": "2020-09-30T16:49:33.284107Z",
     "iopub.status.idle": "2020-09-30T16:49:34.743691Z",
     "shell.execute_reply": "2020-09-30T16:49:34.744325Z"
    },
    "papermill": {
     "duration": 1.490034,
     "end_time": "2020-09-30T16:49:34.744521",
     "exception": false,
     "start_time": "2020-09-30T16:49:33.254487",
     "status": "completed"
    },
    "tags": []
   },
   "outputs": [
    {
     "ename": "NameError",
     "evalue": "name 'XGB' is not defined",
     "output_type": "error",
     "traceback": [
      "\u001b[0;31m---------------------------------------------------------------------------\u001b[0m",
      "\u001b[0;31mNameError\u001b[0m                                 Traceback (most recent call last)",
      "\u001b[0;32m<ipython-input-14-76b205dd7203>\u001b[0m in \u001b[0;36m<module>\u001b[0;34m\u001b[0m\n\u001b[1;32m      5\u001b[0m \u001b[0mR2\u001b[0m \u001b[0;34m=\u001b[0m \u001b[0;34m[\u001b[0m\u001b[0;34m]\u001b[0m\u001b[0;34m\u001b[0m\u001b[0;34m\u001b[0m\u001b[0m\n\u001b[1;32m      6\u001b[0m \u001b[0mlabel\u001b[0m \u001b[0;34m=\u001b[0m \u001b[0;34m[\u001b[0m\u001b[0;34m'XG Boost'\u001b[0m\u001b[0;34m,\u001b[0m\u001b[0;34m'Cat Boost'\u001b[0m\u001b[0;34m,\u001b[0m\u001b[0;34m'Light GBM'\u001b[0m\u001b[0;34m,\u001b[0m\u001b[0;34m'Linear Regression'\u001b[0m\u001b[0;34m,\u001b[0m\u001b[0;34m'Random Forest'\u001b[0m\u001b[0;34m]\u001b[0m\u001b[0;34m\u001b[0m\u001b[0;34m\u001b[0m\u001b[0m\n\u001b[0;32m----> 7\u001b[0;31m \u001b[0mpipeline\u001b[0m\u001b[0;34m(\u001b[0m\u001b[0mread_plant_1\u001b[0m\u001b[0;34m(\u001b[0m\u001b[0;34m)\u001b[0m\u001b[0;34m)\u001b[0m\u001b[0;34m\u001b[0m\u001b[0;34m\u001b[0m\u001b[0m\n\u001b[0m",
      "\u001b[0;32m<ipython-input-13-7bdd28497a85>\u001b[0m in \u001b[0;36mpipeline\u001b[0;34m(param)\u001b[0m\n\u001b[1;32m      3\u001b[0m     \u001b[0mdata\u001b[0m \u001b[0;34m=\u001b[0m \u001b[0mmake_fold\u001b[0m\u001b[0;34m(\u001b[0m\u001b[0mdf\u001b[0m\u001b[0;34m)\u001b[0m\u001b[0;34m\u001b[0m\u001b[0;34m\u001b[0m\u001b[0m\n\u001b[1;32m      4\u001b[0m     \u001b[0mcreate_model\u001b[0m\u001b[0;34m(\u001b[0m\u001b[0;34m)\u001b[0m\u001b[0;34m\u001b[0m\u001b[0;34m\u001b[0m\u001b[0m\n\u001b[0;32m----> 5\u001b[0;31m     \u001b[0mxgb\u001b[0m\u001b[0;34m(\u001b[0m\u001b[0mdata\u001b[0m\u001b[0;34m)\u001b[0m\u001b[0;34m\u001b[0m\u001b[0;34m\u001b[0m\u001b[0m\n\u001b[0m\u001b[1;32m      6\u001b[0m     \u001b[0mcb\u001b[0m\u001b[0;34m(\u001b[0m\u001b[0mdata\u001b[0m\u001b[0;34m)\u001b[0m\u001b[0;34m\u001b[0m\u001b[0;34m\u001b[0m\u001b[0m\n\u001b[1;32m      7\u001b[0m     \u001b[0mlgb\u001b[0m\u001b[0;34m(\u001b[0m\u001b[0mdata\u001b[0m\u001b[0;34m)\u001b[0m\u001b[0;34m\u001b[0m\u001b[0;34m\u001b[0m\u001b[0m\n",
      "\u001b[0;32m<ipython-input-7-81d1c2ed883a>\u001b[0m in \u001b[0;36mxgb\u001b[0;34m(data)\u001b[0m\n\u001b[1;32m      6\u001b[0m     \u001b[0mtest\u001b[0m \u001b[0;34m=\u001b[0m \u001b[0mtest\u001b[0m\u001b[0;34m.\u001b[0m\u001b[0mdropna\u001b[0m\u001b[0;34m(\u001b[0m\u001b[0;34m)\u001b[0m\u001b[0;34m\u001b[0m\u001b[0;34m\u001b[0m\u001b[0m\n\u001b[1;32m      7\u001b[0m     \u001b[0mstart\u001b[0m \u001b[0;34m=\u001b[0m \u001b[0mtime\u001b[0m\u001b[0;34m.\u001b[0m\u001b[0mtime\u001b[0m\u001b[0;34m(\u001b[0m\u001b[0;34m)\u001b[0m\u001b[0;34m\u001b[0m\u001b[0;34m\u001b[0m\u001b[0m\n\u001b[0;32m----> 8\u001b[0;31m     \u001b[0mXGB\u001b[0m\u001b[0;34m.\u001b[0m\u001b[0mfit\u001b[0m\u001b[0;34m(\u001b[0m\u001b[0mtrain\u001b[0m\u001b[0;34m.\u001b[0m\u001b[0mdrop\u001b[0m\u001b[0;34m(\u001b[0m\u001b[0;34m[\u001b[0m\u001b[0;34m'TOTAL_YIELD'\u001b[0m\u001b[0;34m]\u001b[0m\u001b[0;34m,\u001b[0m\u001b[0maxis\u001b[0m\u001b[0;34m=\u001b[0m\u001b[0;36m1\u001b[0m\u001b[0;34m)\u001b[0m\u001b[0;34m,\u001b[0m\u001b[0mtrain\u001b[0m\u001b[0;34m[\u001b[0m\u001b[0;34m'TOTAL_YIELD'\u001b[0m\u001b[0;34m]\u001b[0m\u001b[0;34m)\u001b[0m\u001b[0;34m\u001b[0m\u001b[0;34m\u001b[0m\u001b[0m\n\u001b[0m\u001b[1;32m      9\u001b[0m     \u001b[0mend\u001b[0m \u001b[0;34m=\u001b[0m \u001b[0mtime\u001b[0m\u001b[0;34m.\u001b[0m\u001b[0mtime\u001b[0m\u001b[0;34m(\u001b[0m\u001b[0;34m)\u001b[0m\u001b[0;34m\u001b[0m\u001b[0;34m\u001b[0m\u001b[0m\n\u001b[1;32m     10\u001b[0m     \u001b[0mtimes\u001b[0m\u001b[0;34m.\u001b[0m\u001b[0mappend\u001b[0m\u001b[0;34m(\u001b[0m\u001b[0mend\u001b[0m\u001b[0;34m-\u001b[0m\u001b[0mstart\u001b[0m\u001b[0;34m)\u001b[0m\u001b[0;34m\u001b[0m\u001b[0;34m\u001b[0m\u001b[0m\n",
      "\u001b[0;31mNameError\u001b[0m: name 'XGB' is not defined"
     ]
    }
   ],
   "source": [
    "times = []\n",
    "MAE = []\n",
    "MSE = []\n",
    "RMSE = []\n",
    "R2 = []\n",
    "label = ['XG Boost','Cat Boost','Light GBM','Linear Regression','Random Forest']\n",
    "pipeline(read_plant_1())"
   ]
  },
  {
   "cell_type": "code",
   "execution_count": 15,
   "metadata": {
    "execution": {
     "iopub.execute_input": "2020-09-30T16:49:34.807939Z",
     "iopub.status.busy": "2020-09-30T16:49:34.806868Z",
     "iopub.status.idle": "2020-09-30T16:49:34.812835Z",
     "shell.execute_reply": "2020-09-30T16:49:34.813476Z"
    },
    "papermill": {
     "duration": 0.051665,
     "end_time": "2020-09-30T16:49:34.813673",
     "exception": false,
     "start_time": "2020-09-30T16:49:34.762008",
     "status": "completed"
    },
    "tags": []
   },
   "outputs": [
    {
     "ename": "IndexError",
     "evalue": "list index out of range",
     "output_type": "error",
     "traceback": [
      "\u001b[0;31m---------------------------------------------------------------------------\u001b[0m",
      "\u001b[0;31mIndexError\u001b[0m                                Traceback (most recent call last)",
      "\u001b[0;32m<ipython-input-15-da4b63477d9f>\u001b[0m in \u001b[0;36m<module>\u001b[0;34m\u001b[0m\n\u001b[0;32m----> 1\u001b[0;31m \u001b[0mreport\u001b[0m\u001b[0;34m(\u001b[0m\u001b[0mlabel\u001b[0m\u001b[0;34m,\u001b[0m\u001b[0mMAE\u001b[0m\u001b[0;34m,\u001b[0m\u001b[0mMSE\u001b[0m\u001b[0;34m,\u001b[0m\u001b[0mRMSE\u001b[0m\u001b[0;34m,\u001b[0m\u001b[0mR2\u001b[0m\u001b[0;34m,\u001b[0m\u001b[0mtimes\u001b[0m\u001b[0;34m)\u001b[0m\u001b[0;34m\u001b[0m\u001b[0;34m\u001b[0m\u001b[0m\n\u001b[0m",
      "\u001b[0;32m<ipython-input-12-f467a1f31757>\u001b[0m in \u001b[0;36mreport\u001b[0;34m(label, MAE, MSE, RMSE, R2, times)\u001b[0m\n\u001b[1;32m      2\u001b[0m     \u001b[0mresult\u001b[0m \u001b[0;34m=\u001b[0m \u001b[0;34m[\u001b[0m\u001b[0;34m]\u001b[0m\u001b[0;34m\u001b[0m\u001b[0;34m\u001b[0m\u001b[0m\n\u001b[1;32m      3\u001b[0m     \u001b[0;32mfor\u001b[0m \u001b[0mi\u001b[0m \u001b[0;32min\u001b[0m \u001b[0mrange\u001b[0m\u001b[0;34m(\u001b[0m\u001b[0mlen\u001b[0m\u001b[0;34m(\u001b[0m\u001b[0mlabel\u001b[0m\u001b[0;34m)\u001b[0m\u001b[0;34m)\u001b[0m\u001b[0;34m:\u001b[0m\u001b[0;34m\u001b[0m\u001b[0;34m\u001b[0m\u001b[0m\n\u001b[0;32m----> 4\u001b[0;31m         \u001b[0mresult\u001b[0m\u001b[0;34m.\u001b[0m\u001b[0mappend\u001b[0m\u001b[0;34m(\u001b[0m\u001b[0;34m[\u001b[0m\u001b[0mlabel\u001b[0m\u001b[0;34m[\u001b[0m\u001b[0mi\u001b[0m\u001b[0;34m]\u001b[0m\u001b[0;34m,\u001b[0m\u001b[0mMAE\u001b[0m\u001b[0;34m[\u001b[0m\u001b[0mi\u001b[0m\u001b[0;34m]\u001b[0m\u001b[0;34m,\u001b[0m\u001b[0mMSE\u001b[0m\u001b[0;34m[\u001b[0m\u001b[0mi\u001b[0m\u001b[0;34m]\u001b[0m\u001b[0;34m,\u001b[0m\u001b[0mRMSE\u001b[0m\u001b[0;34m[\u001b[0m\u001b[0mi\u001b[0m\u001b[0;34m]\u001b[0m\u001b[0;34m,\u001b[0m\u001b[0mR2\u001b[0m\u001b[0;34m[\u001b[0m\u001b[0mi\u001b[0m\u001b[0;34m]\u001b[0m\u001b[0;34m,\u001b[0m\u001b[0mtimes\u001b[0m\u001b[0;34m[\u001b[0m\u001b[0mi\u001b[0m\u001b[0;34m]\u001b[0m\u001b[0;34m]\u001b[0m\u001b[0;34m)\u001b[0m\u001b[0;34m\u001b[0m\u001b[0;34m\u001b[0m\u001b[0m\n\u001b[0m\u001b[1;32m      5\u001b[0m     \u001b[0mresult_df\u001b[0m \u001b[0;34m=\u001b[0m \u001b[0mpd\u001b[0m\u001b[0;34m.\u001b[0m\u001b[0mDataFrame\u001b[0m\u001b[0;34m(\u001b[0m\u001b[0mnp\u001b[0m\u001b[0;34m.\u001b[0m\u001b[0marray\u001b[0m\u001b[0;34m(\u001b[0m\u001b[0mresult\u001b[0m\u001b[0;34m)\u001b[0m\u001b[0;34m,\u001b[0m\u001b[0mcolumns\u001b[0m\u001b[0;34m=\u001b[0m\u001b[0;34m[\u001b[0m\u001b[0;34m'Model'\u001b[0m\u001b[0;34m,\u001b[0m\u001b[0;34m'Mean Absolute Error'\u001b[0m\u001b[0;34m,\u001b[0m\u001b[0;34m'Mean Squared Error'\u001b[0m\u001b[0;34m,\u001b[0m\u001b[0;34m'Root Mean Square Error'\u001b[0m\u001b[0;34m,\u001b[0m\u001b[0;34m'R-Squared'\u001b[0m\u001b[0;34m,\u001b[0m\u001b[0;34m'Time'\u001b[0m\u001b[0;34m]\u001b[0m\u001b[0;34m)\u001b[0m\u001b[0;34m\u001b[0m\u001b[0;34m\u001b[0m\u001b[0m\n\u001b[1;32m      6\u001b[0m     \u001b[0;32mreturn\u001b[0m \u001b[0mresult_df\u001b[0m\u001b[0;34m\u001b[0m\u001b[0;34m\u001b[0m\u001b[0m\n",
      "\u001b[0;31mIndexError\u001b[0m: list index out of range"
     ]
    }
   ],
   "source": [
    "report(label,MAE,MSE,RMSE,R2,times)"
   ]
  },
  {
   "cell_type": "code",
   "execution_count": 16,
   "metadata": {
    "execution": {
     "iopub.execute_input": "2020-09-30T16:49:34.859103Z",
     "iopub.status.busy": "2020-09-30T16:49:34.858298Z",
     "iopub.status.idle": "2020-09-30T16:49:36.278141Z",
     "shell.execute_reply": "2020-09-30T16:49:36.277175Z"
    },
    "papermill": {
     "duration": 1.446072,
     "end_time": "2020-09-30T16:49:36.278304",
     "exception": false,
     "start_time": "2020-09-30T16:49:34.832232",
     "status": "completed"
    },
    "tags": []
   },
   "outputs": [
    {
     "ename": "NameError",
     "evalue": "name 'XGB' is not defined",
     "output_type": "error",
     "traceback": [
      "\u001b[0;31m---------------------------------------------------------------------------\u001b[0m",
      "\u001b[0;31mNameError\u001b[0m                                 Traceback (most recent call last)",
      "\u001b[0;32m<ipython-input-16-ffd03ebea66b>\u001b[0m in \u001b[0;36m<module>\u001b[0;34m\u001b[0m\n\u001b[1;32m      5\u001b[0m \u001b[0mR2\u001b[0m \u001b[0;34m=\u001b[0m \u001b[0;34m[\u001b[0m\u001b[0;34m]\u001b[0m\u001b[0;34m\u001b[0m\u001b[0;34m\u001b[0m\u001b[0m\n\u001b[1;32m      6\u001b[0m \u001b[0mlabel\u001b[0m \u001b[0;34m=\u001b[0m \u001b[0;34m[\u001b[0m\u001b[0;34m'XG Boost'\u001b[0m\u001b[0;34m,\u001b[0m\u001b[0;34m'Cat Boost'\u001b[0m\u001b[0;34m,\u001b[0m\u001b[0;34m'Light GBM'\u001b[0m\u001b[0;34m,\u001b[0m\u001b[0;34m'Linear Regression'\u001b[0m\u001b[0;34m,\u001b[0m\u001b[0;34m'Random Forest'\u001b[0m\u001b[0;34m]\u001b[0m\u001b[0;34m\u001b[0m\u001b[0;34m\u001b[0m\u001b[0m\n\u001b[0;32m----> 7\u001b[0;31m \u001b[0mpipeline\u001b[0m\u001b[0;34m(\u001b[0m\u001b[0mread_plant_2\u001b[0m\u001b[0;34m(\u001b[0m\u001b[0;34m)\u001b[0m\u001b[0;34m)\u001b[0m\u001b[0;34m\u001b[0m\u001b[0;34m\u001b[0m\u001b[0m\n\u001b[0m",
      "\u001b[0;32m<ipython-input-13-7bdd28497a85>\u001b[0m in \u001b[0;36mpipeline\u001b[0;34m(param)\u001b[0m\n\u001b[1;32m      3\u001b[0m     \u001b[0mdata\u001b[0m \u001b[0;34m=\u001b[0m \u001b[0mmake_fold\u001b[0m\u001b[0;34m(\u001b[0m\u001b[0mdf\u001b[0m\u001b[0;34m)\u001b[0m\u001b[0;34m\u001b[0m\u001b[0;34m\u001b[0m\u001b[0m\n\u001b[1;32m      4\u001b[0m     \u001b[0mcreate_model\u001b[0m\u001b[0;34m(\u001b[0m\u001b[0;34m)\u001b[0m\u001b[0;34m\u001b[0m\u001b[0;34m\u001b[0m\u001b[0m\n\u001b[0;32m----> 5\u001b[0;31m     \u001b[0mxgb\u001b[0m\u001b[0;34m(\u001b[0m\u001b[0mdata\u001b[0m\u001b[0;34m)\u001b[0m\u001b[0;34m\u001b[0m\u001b[0;34m\u001b[0m\u001b[0m\n\u001b[0m\u001b[1;32m      6\u001b[0m     \u001b[0mcb\u001b[0m\u001b[0;34m(\u001b[0m\u001b[0mdata\u001b[0m\u001b[0;34m)\u001b[0m\u001b[0;34m\u001b[0m\u001b[0;34m\u001b[0m\u001b[0m\n\u001b[1;32m      7\u001b[0m     \u001b[0mlgb\u001b[0m\u001b[0;34m(\u001b[0m\u001b[0mdata\u001b[0m\u001b[0;34m)\u001b[0m\u001b[0;34m\u001b[0m\u001b[0;34m\u001b[0m\u001b[0m\n",
      "\u001b[0;32m<ipython-input-7-81d1c2ed883a>\u001b[0m in \u001b[0;36mxgb\u001b[0;34m(data)\u001b[0m\n\u001b[1;32m      6\u001b[0m     \u001b[0mtest\u001b[0m \u001b[0;34m=\u001b[0m \u001b[0mtest\u001b[0m\u001b[0;34m.\u001b[0m\u001b[0mdropna\u001b[0m\u001b[0;34m(\u001b[0m\u001b[0;34m)\u001b[0m\u001b[0;34m\u001b[0m\u001b[0;34m\u001b[0m\u001b[0m\n\u001b[1;32m      7\u001b[0m     \u001b[0mstart\u001b[0m \u001b[0;34m=\u001b[0m \u001b[0mtime\u001b[0m\u001b[0;34m.\u001b[0m\u001b[0mtime\u001b[0m\u001b[0;34m(\u001b[0m\u001b[0;34m)\u001b[0m\u001b[0;34m\u001b[0m\u001b[0;34m\u001b[0m\u001b[0m\n\u001b[0;32m----> 8\u001b[0;31m     \u001b[0mXGB\u001b[0m\u001b[0;34m.\u001b[0m\u001b[0mfit\u001b[0m\u001b[0;34m(\u001b[0m\u001b[0mtrain\u001b[0m\u001b[0;34m.\u001b[0m\u001b[0mdrop\u001b[0m\u001b[0;34m(\u001b[0m\u001b[0;34m[\u001b[0m\u001b[0;34m'TOTAL_YIELD'\u001b[0m\u001b[0;34m]\u001b[0m\u001b[0;34m,\u001b[0m\u001b[0maxis\u001b[0m\u001b[0;34m=\u001b[0m\u001b[0;36m1\u001b[0m\u001b[0;34m)\u001b[0m\u001b[0;34m,\u001b[0m\u001b[0mtrain\u001b[0m\u001b[0;34m[\u001b[0m\u001b[0;34m'TOTAL_YIELD'\u001b[0m\u001b[0;34m]\u001b[0m\u001b[0;34m)\u001b[0m\u001b[0;34m\u001b[0m\u001b[0;34m\u001b[0m\u001b[0m\n\u001b[0m\u001b[1;32m      9\u001b[0m     \u001b[0mend\u001b[0m \u001b[0;34m=\u001b[0m \u001b[0mtime\u001b[0m\u001b[0;34m.\u001b[0m\u001b[0mtime\u001b[0m\u001b[0;34m(\u001b[0m\u001b[0;34m)\u001b[0m\u001b[0;34m\u001b[0m\u001b[0;34m\u001b[0m\u001b[0m\n\u001b[1;32m     10\u001b[0m     \u001b[0mtimes\u001b[0m\u001b[0;34m.\u001b[0m\u001b[0mappend\u001b[0m\u001b[0;34m(\u001b[0m\u001b[0mend\u001b[0m\u001b[0;34m-\u001b[0m\u001b[0mstart\u001b[0m\u001b[0;34m)\u001b[0m\u001b[0;34m\u001b[0m\u001b[0;34m\u001b[0m\u001b[0m\n",
      "\u001b[0;31mNameError\u001b[0m: name 'XGB' is not defined"
     ]
    }
   ],
   "source": [
    "times = []\n",
    "MAE = []\n",
    "MSE = []\n",
    "RMSE = []\n",
    "R2 = []\n",
    "label = ['XG Boost','Cat Boost','Light GBM','Linear Regression','Random Forest']\n",
    "pipeline(read_plant_2())"
   ]
  },
  {
   "cell_type": "code",
   "execution_count": 17,
   "metadata": {
    "execution": {
     "iopub.execute_input": "2020-09-30T16:49:36.349412Z",
     "iopub.status.busy": "2020-09-30T16:49:36.348337Z",
     "iopub.status.idle": "2020-09-30T16:49:36.355264Z",
     "shell.execute_reply": "2020-09-30T16:49:36.354421Z"
    },
    "papermill": {
     "duration": 0.057411,
     "end_time": "2020-09-30T16:49:36.355420",
     "exception": false,
     "start_time": "2020-09-30T16:49:36.298009",
     "status": "completed"
    },
    "tags": []
   },
   "outputs": [
    {
     "ename": "IndexError",
     "evalue": "list index out of range",
     "output_type": "error",
     "traceback": [
      "\u001b[0;31m---------------------------------------------------------------------------\u001b[0m",
      "\u001b[0;31mIndexError\u001b[0m                                Traceback (most recent call last)",
      "\u001b[0;32m<ipython-input-17-da4b63477d9f>\u001b[0m in \u001b[0;36m<module>\u001b[0;34m\u001b[0m\n\u001b[0;32m----> 1\u001b[0;31m \u001b[0mreport\u001b[0m\u001b[0;34m(\u001b[0m\u001b[0mlabel\u001b[0m\u001b[0;34m,\u001b[0m\u001b[0mMAE\u001b[0m\u001b[0;34m,\u001b[0m\u001b[0mMSE\u001b[0m\u001b[0;34m,\u001b[0m\u001b[0mRMSE\u001b[0m\u001b[0;34m,\u001b[0m\u001b[0mR2\u001b[0m\u001b[0;34m,\u001b[0m\u001b[0mtimes\u001b[0m\u001b[0;34m)\u001b[0m\u001b[0;34m\u001b[0m\u001b[0;34m\u001b[0m\u001b[0m\n\u001b[0m",
      "\u001b[0;32m<ipython-input-12-f467a1f31757>\u001b[0m in \u001b[0;36mreport\u001b[0;34m(label, MAE, MSE, RMSE, R2, times)\u001b[0m\n\u001b[1;32m      2\u001b[0m     \u001b[0mresult\u001b[0m \u001b[0;34m=\u001b[0m \u001b[0;34m[\u001b[0m\u001b[0;34m]\u001b[0m\u001b[0;34m\u001b[0m\u001b[0;34m\u001b[0m\u001b[0m\n\u001b[1;32m      3\u001b[0m     \u001b[0;32mfor\u001b[0m \u001b[0mi\u001b[0m \u001b[0;32min\u001b[0m \u001b[0mrange\u001b[0m\u001b[0;34m(\u001b[0m\u001b[0mlen\u001b[0m\u001b[0;34m(\u001b[0m\u001b[0mlabel\u001b[0m\u001b[0;34m)\u001b[0m\u001b[0;34m)\u001b[0m\u001b[0;34m:\u001b[0m\u001b[0;34m\u001b[0m\u001b[0;34m\u001b[0m\u001b[0m\n\u001b[0;32m----> 4\u001b[0;31m         \u001b[0mresult\u001b[0m\u001b[0;34m.\u001b[0m\u001b[0mappend\u001b[0m\u001b[0;34m(\u001b[0m\u001b[0;34m[\u001b[0m\u001b[0mlabel\u001b[0m\u001b[0;34m[\u001b[0m\u001b[0mi\u001b[0m\u001b[0;34m]\u001b[0m\u001b[0;34m,\u001b[0m\u001b[0mMAE\u001b[0m\u001b[0;34m[\u001b[0m\u001b[0mi\u001b[0m\u001b[0;34m]\u001b[0m\u001b[0;34m,\u001b[0m\u001b[0mMSE\u001b[0m\u001b[0;34m[\u001b[0m\u001b[0mi\u001b[0m\u001b[0;34m]\u001b[0m\u001b[0;34m,\u001b[0m\u001b[0mRMSE\u001b[0m\u001b[0;34m[\u001b[0m\u001b[0mi\u001b[0m\u001b[0;34m]\u001b[0m\u001b[0;34m,\u001b[0m\u001b[0mR2\u001b[0m\u001b[0;34m[\u001b[0m\u001b[0mi\u001b[0m\u001b[0;34m]\u001b[0m\u001b[0;34m,\u001b[0m\u001b[0mtimes\u001b[0m\u001b[0;34m[\u001b[0m\u001b[0mi\u001b[0m\u001b[0;34m]\u001b[0m\u001b[0;34m]\u001b[0m\u001b[0;34m)\u001b[0m\u001b[0;34m\u001b[0m\u001b[0;34m\u001b[0m\u001b[0m\n\u001b[0m\u001b[1;32m      5\u001b[0m     \u001b[0mresult_df\u001b[0m \u001b[0;34m=\u001b[0m \u001b[0mpd\u001b[0m\u001b[0;34m.\u001b[0m\u001b[0mDataFrame\u001b[0m\u001b[0;34m(\u001b[0m\u001b[0mnp\u001b[0m\u001b[0;34m.\u001b[0m\u001b[0marray\u001b[0m\u001b[0;34m(\u001b[0m\u001b[0mresult\u001b[0m\u001b[0;34m)\u001b[0m\u001b[0;34m,\u001b[0m\u001b[0mcolumns\u001b[0m\u001b[0;34m=\u001b[0m\u001b[0;34m[\u001b[0m\u001b[0;34m'Model'\u001b[0m\u001b[0;34m,\u001b[0m\u001b[0;34m'Mean Absolute Error'\u001b[0m\u001b[0;34m,\u001b[0m\u001b[0;34m'Mean Squared Error'\u001b[0m\u001b[0;34m,\u001b[0m\u001b[0;34m'Root Mean Square Error'\u001b[0m\u001b[0;34m,\u001b[0m\u001b[0;34m'R-Squared'\u001b[0m\u001b[0;34m,\u001b[0m\u001b[0;34m'Time'\u001b[0m\u001b[0;34m]\u001b[0m\u001b[0;34m)\u001b[0m\u001b[0;34m\u001b[0m\u001b[0;34m\u001b[0m\u001b[0m\n\u001b[1;32m      6\u001b[0m     \u001b[0;32mreturn\u001b[0m \u001b[0mresult_df\u001b[0m\u001b[0;34m\u001b[0m\u001b[0;34m\u001b[0m\u001b[0m\n",
      "\u001b[0;31mIndexError\u001b[0m: list index out of range"
     ]
    }
   ],
   "source": [
    "report(label,MAE,MSE,RMSE,R2,times)"
   ]
  }
 ],
 "metadata": {
  "kernelspec": {
   "display_name": "Python 3",
   "language": "python",
   "name": "python3"
  },
  "language_info": {
   "codemirror_mode": {
    "name": "ipython",
    "version": 3
   },
   "file_extension": ".py",
   "mimetype": "text/x-python",
   "name": "python",
   "nbconvert_exporter": "python",
   "pygments_lexer": "ipython3",
   "version": "3.7.6"
  },
  "papermill": {
   "duration": 11.967205,
   "end_time": "2020-09-30T16:49:36.484551",
   "environment_variables": {},
   "exception": null,
   "input_path": "__notebook__.ipynb",
   "output_path": "__notebook__.ipynb",
   "parameters": {},
   "start_time": "2020-09-30T16:49:24.517346",
   "version": "2.1.0"
  }
 },
 "nbformat": 4,
 "nbformat_minor": 4
}
